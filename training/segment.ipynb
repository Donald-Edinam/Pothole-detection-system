{
 "cells": [
  {
   "cell_type": "code",
   "execution_count": 1,
   "metadata": {},
   "outputs": [
    {
     "name": "stdout",
     "output_type": "stream",
     "text": [
      "Requirement already satisfied: ultralytics in /home/lusitech/ComputerVision/PotholeDetection/venv/lib/python3.10/site-packages (8.0.201)\n",
      "Requirement already satisfied: torch>=1.8.0 in /home/lusitech/ComputerVision/PotholeDetection/venv/lib/python3.10/site-packages (from ultralytics) (2.0.0)\n",
      "Requirement already satisfied: scipy>=1.4.1 in /home/lusitech/ComputerVision/PotholeDetection/venv/lib/python3.10/site-packages (from ultralytics) (1.14.0)\n",
      "Requirement already satisfied: psutil in /home/lusitech/ComputerVision/PotholeDetection/venv/lib/python3.10/site-packages (from ultralytics) (6.0.0)\n",
      "Requirement already satisfied: pillow>=7.1.2 in /home/lusitech/ComputerVision/PotholeDetection/venv/lib/python3.10/site-packages (from ultralytics) (9.5.0)\n",
      "Requirement already satisfied: opencv-python>=4.6.0 in /home/lusitech/ComputerVision/PotholeDetection/venv/lib/python3.10/site-packages (from ultralytics) (4.8.0.74)\n",
      "Requirement already satisfied: pyyaml>=5.3.1 in /home/lusitech/ComputerVision/PotholeDetection/venv/lib/python3.10/site-packages (from ultralytics) (6.0.1)\n",
      "Requirement already satisfied: seaborn>=0.11.0 in /home/lusitech/ComputerVision/PotholeDetection/venv/lib/python3.10/site-packages (from ultralytics) (0.13.2)\n",
      "Requirement already satisfied: numpy>=1.22.2 in /home/lusitech/ComputerVision/PotholeDetection/venv/lib/python3.10/site-packages (from ultralytics) (1.24.3)\n",
      "Requirement already satisfied: py-cpuinfo in /home/lusitech/ComputerVision/PotholeDetection/venv/lib/python3.10/site-packages (from ultralytics) (9.0.0)\n",
      "Requirement already satisfied: tqdm>=4.64.0 in /home/lusitech/ComputerVision/PotholeDetection/venv/lib/python3.10/site-packages (from ultralytics) (4.66.4)\n",
      "Requirement already satisfied: matplotlib>=3.3.0 in /home/lusitech/ComputerVision/PotholeDetection/venv/lib/python3.10/site-packages (from ultralytics) (3.9.1)\n",
      "Requirement already satisfied: pandas>=1.1.4 in /home/lusitech/ComputerVision/PotholeDetection/venv/lib/python3.10/site-packages (from ultralytics) (2.2.2)\n",
      "Requirement already satisfied: requests>=2.23.0 in /home/lusitech/ComputerVision/PotholeDetection/venv/lib/python3.10/site-packages (from ultralytics) (2.28.2)\n",
      "Requirement already satisfied: thop>=0.1.1 in /home/lusitech/ComputerVision/PotholeDetection/venv/lib/python3.10/site-packages (from ultralytics) (0.1.1.post2209072238)\n",
      "Requirement already satisfied: torchvision>=0.9.0 in /home/lusitech/ComputerVision/PotholeDetection/venv/lib/python3.10/site-packages (from ultralytics) (0.15.1)\n",
      "Requirement already satisfied: python-dateutil>=2.7 in /home/lusitech/ComputerVision/PotholeDetection/venv/lib/python3.10/site-packages (from matplotlib>=3.3.0->ultralytics) (2.9.0.post0)\n",
      "Requirement already satisfied: cycler>=0.10 in /home/lusitech/ComputerVision/PotholeDetection/venv/lib/python3.10/site-packages (from matplotlib>=3.3.0->ultralytics) (0.12.1)\n",
      "Requirement already satisfied: fonttools>=4.22.0 in /home/lusitech/ComputerVision/PotholeDetection/venv/lib/python3.10/site-packages (from matplotlib>=3.3.0->ultralytics) (4.53.0)\n",
      "Requirement already satisfied: packaging>=20.0 in /home/lusitech/ComputerVision/PotholeDetection/venv/lib/python3.10/site-packages (from matplotlib>=3.3.0->ultralytics) (23.2)\n",
      "Requirement already satisfied: contourpy>=1.0.1 in /home/lusitech/ComputerVision/PotholeDetection/venv/lib/python3.10/site-packages (from matplotlib>=3.3.0->ultralytics) (1.2.1)\n",
      "Requirement already satisfied: kiwisolver>=1.3.1 in /home/lusitech/ComputerVision/PotholeDetection/venv/lib/python3.10/site-packages (from matplotlib>=3.3.0->ultralytics) (1.4.5)\n",
      "Requirement already satisfied: pyparsing>=2.3.1 in /home/lusitech/ComputerVision/PotholeDetection/venv/lib/python3.10/site-packages (from matplotlib>=3.3.0->ultralytics) (3.1.2)\n",
      "Requirement already satisfied: tzdata>=2022.7 in /home/lusitech/ComputerVision/PotholeDetection/venv/lib/python3.10/site-packages (from pandas>=1.1.4->ultralytics) (2024.1)\n",
      "Requirement already satisfied: pytz>=2020.1 in /home/lusitech/ComputerVision/PotholeDetection/venv/lib/python3.10/site-packages (from pandas>=1.1.4->ultralytics) (2024.1)\n",
      "Requirement already satisfied: urllib3<1.27,>=1.21.1 in /home/lusitech/ComputerVision/PotholeDetection/venv/lib/python3.10/site-packages (from requests>=2.23.0->ultralytics) (1.26.19)\n",
      "Requirement already satisfied: charset-normalizer<4,>=2 in /home/lusitech/ComputerVision/PotholeDetection/venv/lib/python3.10/site-packages (from requests>=2.23.0->ultralytics) (3.3.2)\n",
      "Requirement already satisfied: certifi>=2017.4.17 in /home/lusitech/ComputerVision/PotholeDetection/venv/lib/python3.10/site-packages (from requests>=2.23.0->ultralytics) (2024.7.4)\n",
      "Requirement already satisfied: idna<4,>=2.5 in /home/lusitech/ComputerVision/PotholeDetection/venv/lib/python3.10/site-packages (from requests>=2.23.0->ultralytics) (3.7)\n",
      "Requirement already satisfied: nvidia-cuda-runtime-cu11==11.7.99 in /home/lusitech/ComputerVision/PotholeDetection/venv/lib/python3.10/site-packages (from torch>=1.8.0->ultralytics) (11.7.99)\n",
      "Requirement already satisfied: nvidia-cusparse-cu11==11.7.4.91 in /home/lusitech/ComputerVision/PotholeDetection/venv/lib/python3.10/site-packages (from torch>=1.8.0->ultralytics) (11.7.4.91)\n",
      "Requirement already satisfied: nvidia-nvtx-cu11==11.7.91 in /home/lusitech/ComputerVision/PotholeDetection/venv/lib/python3.10/site-packages (from torch>=1.8.0->ultralytics) (11.7.91)\n",
      "Requirement already satisfied: networkx in /home/lusitech/ComputerVision/PotholeDetection/venv/lib/python3.10/site-packages (from torch>=1.8.0->ultralytics) (3.3)\n",
      "Requirement already satisfied: nvidia-cuda-nvrtc-cu11==11.7.99 in /home/lusitech/ComputerVision/PotholeDetection/venv/lib/python3.10/site-packages (from torch>=1.8.0->ultralytics) (11.7.99)\n",
      "Requirement already satisfied: nvidia-cublas-cu11==11.10.3.66 in /home/lusitech/ComputerVision/PotholeDetection/venv/lib/python3.10/site-packages (from torch>=1.8.0->ultralytics) (11.10.3.66)\n",
      "Requirement already satisfied: nvidia-cudnn-cu11==8.5.0.96 in /home/lusitech/ComputerVision/PotholeDetection/venv/lib/python3.10/site-packages (from torch>=1.8.0->ultralytics) (8.5.0.96)\n",
      "Requirement already satisfied: nvidia-cusolver-cu11==11.4.0.1 in /home/lusitech/ComputerVision/PotholeDetection/venv/lib/python3.10/site-packages (from torch>=1.8.0->ultralytics) (11.4.0.1)\n",
      "Requirement already satisfied: nvidia-nccl-cu11==2.14.3 in /home/lusitech/ComputerVision/PotholeDetection/venv/lib/python3.10/site-packages (from torch>=1.8.0->ultralytics) (2.14.3)\n",
      "Requirement already satisfied: triton==2.0.0 in /home/lusitech/ComputerVision/PotholeDetection/venv/lib/python3.10/site-packages (from torch>=1.8.0->ultralytics) (2.0.0)\n",
      "Requirement already satisfied: nvidia-curand-cu11==10.2.10.91 in /home/lusitech/ComputerVision/PotholeDetection/venv/lib/python3.10/site-packages (from torch>=1.8.0->ultralytics) (10.2.10.91)\n",
      "Requirement already satisfied: filelock in /home/lusitech/ComputerVision/PotholeDetection/venv/lib/python3.10/site-packages (from torch>=1.8.0->ultralytics) (3.15.4)\n",
      "Requirement already satisfied: nvidia-cufft-cu11==10.9.0.58 in /home/lusitech/ComputerVision/PotholeDetection/venv/lib/python3.10/site-packages (from torch>=1.8.0->ultralytics) (10.9.0.58)\n",
      "Requirement already satisfied: jinja2 in /home/lusitech/ComputerVision/PotholeDetection/venv/lib/python3.10/site-packages (from torch>=1.8.0->ultralytics) (3.1.4)\n",
      "Requirement already satisfied: sympy in /home/lusitech/ComputerVision/PotholeDetection/venv/lib/python3.10/site-packages (from torch>=1.8.0->ultralytics) (1.12.1)\n",
      "Requirement already satisfied: typing-extensions in /home/lusitech/ComputerVision/PotholeDetection/venv/lib/python3.10/site-packages (from torch>=1.8.0->ultralytics) (4.12.2)\n",
      "Requirement already satisfied: nvidia-cuda-cupti-cu11==11.7.101 in /home/lusitech/ComputerVision/PotholeDetection/venv/lib/python3.10/site-packages (from torch>=1.8.0->ultralytics) (11.7.101)\n",
      "Requirement already satisfied: wheel in /home/lusitech/ComputerVision/PotholeDetection/venv/lib/python3.10/site-packages (from nvidia-cublas-cu11==11.10.3.66->torch>=1.8.0->ultralytics) (0.43.0)\n",
      "Requirement already satisfied: setuptools in /home/lusitech/ComputerVision/PotholeDetection/venv/lib/python3.10/site-packages (from nvidia-cublas-cu11==11.10.3.66->torch>=1.8.0->ultralytics) (59.6.0)\n",
      "Requirement already satisfied: lit in /home/lusitech/ComputerVision/PotholeDetection/venv/lib/python3.10/site-packages (from triton==2.0.0->torch>=1.8.0->ultralytics) (18.1.8)\n",
      "Requirement already satisfied: cmake in /home/lusitech/ComputerVision/PotholeDetection/venv/lib/python3.10/site-packages (from triton==2.0.0->torch>=1.8.0->ultralytics) (3.30.0)\n",
      "Requirement already satisfied: six>=1.5 in /home/lusitech/ComputerVision/PotholeDetection/venv/lib/python3.10/site-packages (from python-dateutil>=2.7->matplotlib>=3.3.0->ultralytics) (1.16.0)\n",
      "Requirement already satisfied: MarkupSafe>=2.0 in /home/lusitech/ComputerVision/PotholeDetection/venv/lib/python3.10/site-packages (from jinja2->torch>=1.8.0->ultralytics) (2.1.5)\n",
      "Requirement already satisfied: mpmath<1.4.0,>=1.1.0 in /home/lusitech/ComputerVision/PotholeDetection/venv/lib/python3.10/site-packages (from sympy->torch>=1.8.0->ultralytics) (1.3.0)\n",
      "Note: you may need to restart the kernel to use updated packages.\n"
     ]
    }
   ],
   "source": [
    "# Install YOLOv8\n",
    "%pip install ultralytics"
   ]
  },
  {
   "cell_type": "code",
   "execution_count": 2,
   "metadata": {},
   "outputs": [],
   "source": [
    "from ultralytics import YOLO"
   ]
  },
  {
   "cell_type": "code",
   "execution_count": 3,
   "metadata": {},
   "outputs": [],
   "source": [
    "import os\n",
    "os.environ['PYTORCH_CUDA_ALLOC_CONF'] = 'max_split_size_mb:32'"
   ]
  },
  {
   "cell_type": "code",
   "execution_count": 4,
   "metadata": {},
   "outputs": [],
   "source": [
    "import torch\n",
    "torch.cuda.empty_cache()"
   ]
  },
  {
   "cell_type": "code",
   "execution_count": 6,
   "metadata": {},
   "outputs": [
    {
     "name": "stderr",
     "output_type": "stream",
     "text": [
      "New https://pypi.org/project/ultralytics/8.2.50 available 😃 Update with 'pip install -U ultralytics'\n",
      "Ultralytics YOLOv8.0.201 🚀 Python-3.10.12 torch-2.0.0+cu117 CPU (Intel Core(TM) i5-6200U 2.30GHz)\n",
      "\u001b[34m\u001b[1mengine/trainer: \u001b[0mtask=segment, mode=train, model=yolov8n-seg.pt, data=/home/lusitech/ComputerVision/PotholeDetection/pothole-img/data.yaml, epochs=50, patience=50, batch=16, imgsz=640, save=True, save_period=-1, cache=False, device=cpu, workers=8, project=None, name=pothole2, exist_ok=False, pretrained=True, optimizer=auto, verbose=True, seed=0, deterministic=True, single_cls=False, rect=False, cos_lr=False, close_mosaic=10, resume=False, amp=True, fraction=1.0, profile=False, freeze=None, overlap_mask=True, mask_ratio=4, dropout=0.0, val=True, split=val, save_json=False, save_hybrid=False, conf=None, iou=0.7, max_det=300, half=False, dnn=False, plots=True, source=None, show=False, save_txt=False, save_conf=False, save_crop=False, show_labels=True, show_conf=True, vid_stride=1, stream_buffer=False, line_width=None, visualize=False, augment=False, agnostic_nms=False, classes=None, retina_masks=False, boxes=True, format=torchscript, keras=False, optimize=False, int8=False, dynamic=False, simplify=False, opset=None, workspace=4, nms=False, lr0=0.01, lrf=0.01, momentum=0.937, weight_decay=0.0005, warmup_epochs=3.0, warmup_momentum=0.8, warmup_bias_lr=0.1, box=7.5, cls=0.5, dfl=1.5, pose=12.0, kobj=1.0, label_smoothing=0.0, nbs=64, hsv_h=0.015, hsv_s=0.7, hsv_v=0.4, degrees=0.0, translate=0.1, scale=0.5, shear=0.0, perspective=0.0, flipud=0.0, fliplr=0.5, mosaic=1.0, mixup=0.0, copy_paste=0.0, cfg=None, tracker=botsort.yaml, save_dir=runs/segment/pothole2\n",
      "Overriding model.yaml nc=80 with nc=3\n",
      "\n",
      "                   from  n    params  module                                       arguments                     \n",
      "  0                  -1  1       464  ultralytics.nn.modules.conv.Conv             [3, 16, 3, 2]                 \n",
      "  1                  -1  1      4672  ultralytics.nn.modules.conv.Conv             [16, 32, 3, 2]                \n",
      "  2                  -1  1      7360  ultralytics.nn.modules.block.C2f             [32, 32, 1, True]             \n",
      "  3                  -1  1     18560  ultralytics.nn.modules.conv.Conv             [32, 64, 3, 2]                \n",
      "  4                  -1  2     49664  ultralytics.nn.modules.block.C2f             [64, 64, 2, True]             \n",
      "  5                  -1  1     73984  ultralytics.nn.modules.conv.Conv             [64, 128, 3, 2]               \n",
      "  6                  -1  2    197632  ultralytics.nn.modules.block.C2f             [128, 128, 2, True]           \n",
      "  7                  -1  1    295424  ultralytics.nn.modules.conv.Conv             [128, 256, 3, 2]              \n",
      "  8                  -1  1    460288  ultralytics.nn.modules.block.C2f             [256, 256, 1, True]           \n",
      "  9                  -1  1    164608  ultralytics.nn.modules.block.SPPF            [256, 256, 5]                 \n",
      " 10                  -1  1         0  torch.nn.modules.upsampling.Upsample         [None, 2, 'nearest']          \n",
      " 11             [-1, 6]  1         0  ultralytics.nn.modules.conv.Concat           [1]                           \n",
      " 12                  -1  1    148224  ultralytics.nn.modules.block.C2f             [384, 128, 1]                 \n",
      " 13                  -1  1         0  torch.nn.modules.upsampling.Upsample         [None, 2, 'nearest']          \n",
      " 14             [-1, 4]  1         0  ultralytics.nn.modules.conv.Concat           [1]                           \n",
      " 15                  -1  1     37248  ultralytics.nn.modules.block.C2f             [192, 64, 1]                  \n",
      " 16                  -1  1     36992  ultralytics.nn.modules.conv.Conv             [64, 64, 3, 2]                \n",
      " 17            [-1, 12]  1         0  ultralytics.nn.modules.conv.Concat           [1]                           \n",
      " 18                  -1  1    123648  ultralytics.nn.modules.block.C2f             [192, 128, 1]                 \n",
      " 19                  -1  1    147712  ultralytics.nn.modules.conv.Conv             [128, 128, 3, 2]              \n",
      " 20             [-1, 9]  1         0  ultralytics.nn.modules.conv.Concat           [1]                           \n",
      " 21                  -1  1    493056  ultralytics.nn.modules.block.C2f             [384, 256, 1]                 \n",
      " 22        [15, 18, 21]  1   1004665  ultralytics.nn.modules.head.Segment          [3, 32, 64, [64, 128, 256]]   \n",
      "YOLOv8n-seg summary: 261 layers, 3264201 parameters, 3264185 gradients, 12.1 GFLOPs\n",
      "\n",
      "Transferred 381/417 items from pretrained weights\n",
      "Failed to detect the name of this notebook, you can set it manually with the WANDB_NOTEBOOK_NAME environment variable to enable code saving.\n",
      "\u001b[34m\u001b[1mwandb\u001b[0m: Currently logged in as: \u001b[33mhamdanialhassangandi2020\u001b[0m (\u001b[33mhamdanialhassangandi2020-Kwame Nkrumah University of Sci\u001b[0m). Use \u001b[1m`wandb login --relogin`\u001b[0m to force relogin\n"
     ]
    },
    {
     "data": {
      "text/html": [
       "Tracking run with wandb version 0.17.4"
      ],
      "text/plain": [
       "<IPython.core.display.HTML object>"
      ]
     },
     "metadata": {},
     "output_type": "display_data"
    },
    {
     "data": {
      "text/html": [
       "Run data is saved locally in <code>/home/lusitech/ComputerVision/PotholeDetection/training/wandb/run-20240707_000131-c3a3n3q0</code>"
      ],
      "text/plain": [
       "<IPython.core.display.HTML object>"
      ]
     },
     "metadata": {},
     "output_type": "display_data"
    },
    {
     "data": {
      "text/html": [
       "Syncing run <strong><a href='https://wandb.ai/hamdanialhassangandi2020-Kwame%20Nkrumah%20University%20of%20Sci/YOLOv8/runs/c3a3n3q0' target=\"_blank\">pothole2</a></strong> to <a href='https://wandb.ai/hamdanialhassangandi2020-Kwame%20Nkrumah%20University%20of%20Sci/YOLOv8' target=\"_blank\">Weights & Biases</a> (<a href='https://wandb.me/run' target=\"_blank\">docs</a>)<br/>"
      ],
      "text/plain": [
       "<IPython.core.display.HTML object>"
      ]
     },
     "metadata": {},
     "output_type": "display_data"
    },
    {
     "data": {
      "text/html": [
       " View project at <a href='https://wandb.ai/hamdanialhassangandi2020-Kwame%20Nkrumah%20University%20of%20Sci/YOLOv8' target=\"_blank\">https://wandb.ai/hamdanialhassangandi2020-Kwame%20Nkrumah%20University%20of%20Sci/YOLOv8</a>"
      ],
      "text/plain": [
       "<IPython.core.display.HTML object>"
      ]
     },
     "metadata": {},
     "output_type": "display_data"
    },
    {
     "data": {
      "text/html": [
       " View run at <a href='https://wandb.ai/hamdanialhassangandi2020-Kwame%20Nkrumah%20University%20of%20Sci/YOLOv8/runs/c3a3n3q0' target=\"_blank\">https://wandb.ai/hamdanialhassangandi2020-Kwame%20Nkrumah%20University%20of%20Sci/YOLOv8/runs/c3a3n3q0</a>"
      ],
      "text/plain": [
       "<IPython.core.display.HTML object>"
      ]
     },
     "metadata": {},
     "output_type": "display_data"
    },
    {
     "name": "stderr",
     "output_type": "stream",
     "text": [
      "Freezing layer 'model.22.dfl.conv.weight'\n",
      "\u001b[34m\u001b[1mtrain: \u001b[0mScanning /home/lusitech/ComputerVision/PotholeDetection/pothole-img/train/labels.cache... 1199 images, 11 backgrounds, 0 corrupt: 100%|██████████| 1199/1199 [00:00<?, ?it/s]\n",
      "\u001b[34m\u001b[1mtrain: \u001b[0mWARNING ⚠️ /home/lusitech/ComputerVision/PotholeDetection/pothole-img/train/images/img_1681_jpg.rf.9603818885f548641d97989bc2102fce.jpg: 1 duplicate labels removed\n",
      "\u001b[34m\u001b[1mtrain: \u001b[0mWARNING ⚠️ /home/lusitech/ComputerVision/PotholeDetection/pothole-img/train/images/youtube-40_jpg.rf.9cb64c08d963657ff65d1906bfa43e49.jpg: 1 duplicate labels removed\n",
      "\u001b[34m\u001b[1mtrain: \u001b[0mWARNING ⚠️ /home/lusitech/ComputerVision/PotholeDetection/pothole-img/train/images/youtube-40_jpg.rf.a0c2034b557aa3d9092c2a2a9a2f103e.jpg: 1 duplicate labels removed\n",
      "\u001b[34m\u001b[1mtrain: \u001b[0mWARNING ⚠️ /home/lusitech/ComputerVision/PotholeDetection/pothole-img/train/images/youtube-40_jpg.rf.d9c01dc9a06395d9f026471106f6d615.jpg: 1 duplicate labels removed\n",
      "\u001b[34m\u001b[1mtrain: \u001b[0mWARNING ⚠️ /home/lusitech/ComputerVision/PotholeDetection/pothole-img/train/images/youtube-99_jpg.rf.4507e49d8e2fde1924d2348c287fcd1d.jpg: 1 duplicate labels removed\n",
      "\u001b[34m\u001b[1mval: \u001b[0mScanning /home/lusitech/ComputerVision/PotholeDetection/pothole-img/valid/labels.cache... 195 images, 8 backgrounds, 0 corrupt: 100%|██████████| 195/195 [00:00<?, ?it/s]\n",
      "Plotting labels to runs/segment/pothole2/labels.jpg... \n",
      "\u001b[34m\u001b[1moptimizer:\u001b[0m 'optimizer=auto' found, ignoring 'lr0=0.01' and 'momentum=0.937' and determining best 'optimizer', 'lr0' and 'momentum' automatically... \n",
      "\u001b[34m\u001b[1moptimizer:\u001b[0m AdamW(lr=0.001429, momentum=0.9) with parameter groups 66 weight(decay=0.0), 77 weight(decay=0.0005), 76 bias(decay=0.0)\n",
      "Image sizes 640 train, 640 val\n",
      "Using 0 dataloader workers\n",
      "Logging results to \u001b[1mruns/segment/pothole2\u001b[0m\n",
      "Starting training for 50 epochs...\n",
      "\n",
      "      Epoch    GPU_mem   box_loss   seg_loss   cls_loss   dfl_loss  Instances       Size\n",
      "       1/50         0G      1.495      3.275      2.623       1.42        107        640: 100%|██████████| 75/75 [17:21<00:00, 13.89s/it]\n",
      "                 Class     Images  Instances      Box(P          R      mAP50  mAP50-95)     Mask(P          R      mAP50  mAP50-95): 100%|██████████| 7/7 [01:27<00:00, 12.45s/it]\n",
      "                   all        195        397      0.779      0.116      0.155     0.0805      0.793     0.0878      0.141     0.0678\n",
      "\n",
      "      Epoch    GPU_mem   box_loss   seg_loss   cls_loss   dfl_loss  Instances       Size\n",
      "       2/50         0G      1.442      2.838       1.89       1.35        151        640: 100%|██████████| 75/75 [17:51<00:00, 14.28s/it]\n",
      "                 Class     Images  Instances      Box(P          R      mAP50  mAP50-95)     Mask(P          R      mAP50  mAP50-95): 100%|██████████| 7/7 [01:21<00:00, 11.69s/it]\n",
      "                   all        195        397      0.717       0.16      0.162     0.0904      0.711      0.164      0.163      0.088\n",
      "\n",
      "      Epoch    GPU_mem   box_loss   seg_loss   cls_loss   dfl_loss  Instances       Size\n",
      "       3/50         0G      1.456      2.831      1.817      1.384         81        640: 100%|██████████| 75/75 [17:23<00:00, 13.91s/it]\n",
      "                 Class     Images  Instances      Box(P          R      mAP50  mAP50-95)     Mask(P          R      mAP50  mAP50-95): 100%|██████████| 7/7 [01:22<00:00, 11.73s/it]\n",
      "                   all        195        397      0.763      0.229      0.221      0.123      0.772      0.237      0.222      0.114\n",
      "\n",
      "      Epoch    GPU_mem   box_loss   seg_loss   cls_loss   dfl_loss  Instances       Size\n",
      "       4/50         0G      1.462      2.848      1.743      1.373        142        640: 100%|██████████| 75/75 [17:29<00:00, 13.99s/it]\n",
      "                 Class     Images  Instances      Box(P          R      mAP50  mAP50-95)     Mask(P          R      mAP50  mAP50-95): 100%|██████████| 7/7 [01:22<00:00, 11.79s/it]\n",
      "                   all        195        397      0.676      0.174      0.139      0.063       0.67      0.178       0.14     0.0704\n",
      "\n",
      "      Epoch    GPU_mem   box_loss   seg_loss   cls_loss   dfl_loss  Instances       Size\n",
      "       5/50         0G      1.408      2.761       1.63      1.338         96        640: 100%|██████████| 75/75 [17:18<00:00, 13.85s/it]\n",
      "                 Class     Images  Instances      Box(P          R      mAP50  mAP50-95)     Mask(P          R      mAP50  mAP50-95): 100%|██████████| 7/7 [01:14<00:00, 10.65s/it]\n",
      "                   all        195        397      0.761      0.212      0.248       0.14      0.779      0.202      0.253      0.149\n",
      "\n",
      "      Epoch    GPU_mem   box_loss   seg_loss   cls_loss   dfl_loss  Instances       Size\n",
      "       6/50         0G      1.378      2.727       1.54      1.313         92        640: 100%|██████████| 75/75 [17:26<00:00, 13.96s/it]\n",
      "                 Class     Images  Instances      Box(P          R      mAP50  mAP50-95)     Mask(P          R      mAP50  mAP50-95): 100%|██████████| 7/7 [01:21<00:00, 11.66s/it]\n",
      "                   all        195        397      0.782      0.226      0.234      0.131      0.781      0.229      0.237      0.127\n",
      "\n",
      "      Epoch    GPU_mem   box_loss   seg_loss   cls_loss   dfl_loss  Instances       Size\n",
      "       7/50         0G      1.343      2.607        1.5      1.298        102        640: 100%|██████████| 75/75 [17:20<00:00, 13.88s/it]\n",
      "                 Class     Images  Instances      Box(P          R      mAP50  mAP50-95)     Mask(P          R      mAP50  mAP50-95): 100%|██████████| 7/7 [01:17<00:00, 11.09s/it]\n",
      "                   all        195        397      0.786      0.249      0.251      0.143      0.799      0.248      0.257      0.144\n",
      "\n",
      "      Epoch    GPU_mem   box_loss   seg_loss   cls_loss   dfl_loss  Instances       Size\n",
      "       8/50         0G      1.359      2.596      1.487        1.3         87        640: 100%|██████████| 75/75 [17:27<00:00, 13.97s/it]\n",
      "                 Class     Images  Instances      Box(P          R      mAP50  mAP50-95)     Mask(P          R      mAP50  mAP50-95): 100%|██████████| 7/7 [01:16<00:00, 10.99s/it]\n",
      "                   all        195        397      0.778      0.263      0.264      0.158      0.768      0.272      0.258      0.152\n",
      "\n",
      "      Epoch    GPU_mem   box_loss   seg_loss   cls_loss   dfl_loss  Instances       Size\n",
      "       9/50         0G      1.332       2.57      1.456      1.283        129        640: 100%|██████████| 75/75 [17:17<00:00, 13.83s/it]\n",
      "                 Class     Images  Instances      Box(P          R      mAP50  mAP50-95)     Mask(P          R      mAP50  mAP50-95): 100%|██████████| 7/7 [01:12<00:00, 10.39s/it]\n",
      "                   all        195        397      0.832      0.288      0.296      0.178       0.83      0.282      0.293      0.177\n",
      "\n",
      "      Epoch    GPU_mem   box_loss   seg_loss   cls_loss   dfl_loss  Instances       Size\n",
      "      10/50         0G        1.3      2.487      1.392      1.272         79        640: 100%|██████████| 75/75 [17:19<00:00, 13.85s/it]\n",
      "                 Class     Images  Instances      Box(P          R      mAP50  mAP50-95)     Mask(P          R      mAP50  mAP50-95): 100%|██████████| 7/7 [01:12<00:00, 10.36s/it]\n",
      "                   all        195        397      0.809      0.276      0.284      0.168      0.801      0.292       0.29      0.172\n",
      "\n",
      "      Epoch    GPU_mem   box_loss   seg_loss   cls_loss   dfl_loss  Instances       Size\n",
      "      11/50         0G      1.286        2.5      1.364      1.252        103        640: 100%|██████████| 75/75 [17:16<00:00, 13.81s/it]\n",
      "                 Class     Images  Instances      Box(P          R      mAP50  mAP50-95)     Mask(P          R      mAP50  mAP50-95): 100%|██████████| 7/7 [01:15<00:00, 10.85s/it]\n",
      "                   all        195        397      0.835      0.265      0.297      0.176      0.844      0.262      0.302      0.178\n",
      "\n",
      "      Epoch    GPU_mem   box_loss   seg_loss   cls_loss   dfl_loss  Instances       Size\n",
      "      12/50         0G      1.266      2.471      1.346      1.249        133        640: 100%|██████████| 75/75 [17:25<00:00, 13.94s/it]\n",
      "                 Class     Images  Instances      Box(P          R      mAP50  mAP50-95)     Mask(P          R      mAP50  mAP50-95): 100%|██████████| 7/7 [01:15<00:00, 10.74s/it]\n",
      "                   all        195        397      0.868      0.289      0.318      0.184      0.867      0.286      0.316      0.184\n",
      "\n",
      "      Epoch    GPU_mem   box_loss   seg_loss   cls_loss   dfl_loss  Instances       Size\n",
      "      13/50         0G      1.254      2.448       1.34      1.241         59        640: 100%|██████████| 75/75 [17:13<00:00, 13.79s/it]\n",
      "                 Class     Images  Instances      Box(P          R      mAP50  mAP50-95)     Mask(P          R      mAP50  mAP50-95): 100%|██████████| 7/7 [01:15<00:00, 10.85s/it]\n",
      "                   all        195        397      0.813       0.29        0.3       0.18      0.814      0.291      0.299      0.179\n",
      "\n",
      "      Epoch    GPU_mem   box_loss   seg_loss   cls_loss   dfl_loss  Instances       Size\n",
      "      14/50         0G      1.212      2.364      1.265      1.216         88        640: 100%|██████████| 75/75 [17:09<00:00, 13.73s/it]\n",
      "                 Class     Images  Instances      Box(P          R      mAP50  mAP50-95)     Mask(P          R      mAP50  mAP50-95): 100%|██████████| 7/7 [01:15<00:00, 10.72s/it]\n",
      "                   all        195        397      0.831      0.285      0.301      0.176      0.842      0.275      0.303      0.183\n",
      "\n",
      "      Epoch    GPU_mem   box_loss   seg_loss   cls_loss   dfl_loss  Instances       Size\n",
      "      15/50         0G      1.223      2.382      1.255      1.235        129        640: 100%|██████████| 75/75 [17:14<00:00, 13.79s/it]\n",
      "                 Class     Images  Instances      Box(P          R      mAP50  mAP50-95)     Mask(P          R      mAP50  mAP50-95): 100%|██████████| 7/7 [01:14<00:00, 10.62s/it]\n",
      "                   all        195        397      0.851      0.295      0.441      0.276      0.859      0.299      0.444      0.268\n",
      "\n",
      "      Epoch    GPU_mem   box_loss   seg_loss   cls_loss   dfl_loss  Instances       Size\n",
      "      16/50         0G      1.193      2.352       1.23      1.199        107        640: 100%|██████████| 75/75 [17:31<00:00, 14.02s/it]\n",
      "                 Class     Images  Instances      Box(P          R      mAP50  mAP50-95)     Mask(P          R      mAP50  mAP50-95): 100%|██████████| 7/7 [01:19<00:00, 11.31s/it]\n",
      "                   all        195        397      0.805      0.302      0.307      0.187      0.811      0.308       0.31      0.183\n",
      "\n",
      "      Epoch    GPU_mem   box_loss   seg_loss   cls_loss   dfl_loss  Instances       Size\n",
      "      17/50         0G      1.188       2.32      1.215      1.199         97        640: 100%|██████████| 75/75 [17:26<00:00, 13.95s/it]\n",
      "                 Class     Images  Instances      Box(P          R      mAP50  mAP50-95)     Mask(P          R      mAP50  mAP50-95): 100%|██████████| 7/7 [01:13<00:00, 10.56s/it]\n",
      "                   all        195        397      0.847      0.286      0.382      0.234       0.83        0.3       0.39      0.236\n",
      "\n",
      "      Epoch    GPU_mem   box_loss   seg_loss   cls_loss   dfl_loss  Instances       Size\n",
      "      18/50         0G       1.17      2.248      1.174      1.185         97        640: 100%|██████████| 75/75 [17:17<00:00, 13.83s/it]\n",
      "                 Class     Images  Instances      Box(P          R      mAP50  mAP50-95)     Mask(P          R      mAP50  mAP50-95): 100%|██████████| 7/7 [01:15<00:00, 10.75s/it]\n",
      "                   all        195        397      0.416      0.512      0.437      0.266      0.413      0.505      0.436      0.259\n",
      "\n",
      "      Epoch    GPU_mem   box_loss   seg_loss   cls_loss   dfl_loss  Instances       Size\n",
      "      19/50         0G      1.166       2.23      1.159      1.184        120        640: 100%|██████████| 75/75 [17:25<00:00, 13.94s/it]\n",
      "                 Class     Images  Instances      Box(P          R      mAP50  mAP50-95)     Mask(P          R      mAP50  mAP50-95): 100%|██████████| 7/7 [01:10<00:00, 10.03s/it]\n",
      "                   all        195        397      0.861      0.298      0.369      0.211      0.859      0.307      0.371      0.207\n",
      "\n",
      "      Epoch    GPU_mem   box_loss   seg_loss   cls_loss   dfl_loss  Instances       Size\n",
      "      20/50         0G      1.151      2.239      1.124      1.183         98        640: 100%|██████████| 75/75 [17:29<00:00, 13.99s/it]\n",
      "                 Class     Images  Instances      Box(P          R      mAP50  mAP50-95)     Mask(P          R      mAP50  mAP50-95): 100%|██████████| 7/7 [01:13<00:00, 10.45s/it]\n",
      "                   all        195        397      0.378       0.51      0.462      0.294      0.376      0.507      0.461      0.294\n",
      "\n",
      "      Epoch    GPU_mem   box_loss   seg_loss   cls_loss   dfl_loss  Instances       Size\n",
      "      21/50         0G      1.129      2.159      1.109      1.162         79        640: 100%|██████████| 75/75 [17:28<00:00, 13.98s/it]\n",
      "                 Class     Images  Instances      Box(P          R      mAP50  mAP50-95)     Mask(P          R      mAP50  mAP50-95): 100%|██████████| 7/7 [01:17<00:00, 11.07s/it]\n",
      "                   all        195        397      0.742      0.434      0.499      0.291      0.759      0.438      0.507      0.299\n",
      "\n",
      "      Epoch    GPU_mem   box_loss   seg_loss   cls_loss   dfl_loss  Instances       Size\n",
      "      22/50         0G      1.128      2.192      1.104      1.165         89        640: 100%|██████████| 75/75 [17:28<00:00, 13.98s/it]\n",
      "                 Class     Images  Instances      Box(P          R      mAP50  mAP50-95)     Mask(P          R      mAP50  mAP50-95): 100%|██████████| 7/7 [01:16<00:00, 10.92s/it]\n",
      "                   all        195        397      0.847      0.404      0.472      0.298      0.763      0.443      0.471      0.294\n",
      "\n",
      "      Epoch    GPU_mem   box_loss   seg_loss   cls_loss   dfl_loss  Instances       Size\n",
      "      23/50         0G      1.123      2.152       1.08      1.163         84        640:  55%|█████▍    | 41/75 [09:34<07:40, 13.54s/it]wandb: ERROR Dropped streaming file chunk (see wandb/debug-internal.log)\n",
      "      23/50         0G      1.123      2.188      1.091      1.161        101        640: 100%|██████████| 75/75 [17:33<00:00, 14.05s/it]\n",
      "                 Class     Images  Instances      Box(P          R      mAP50  mAP50-95)     Mask(P          R      mAP50  mAP50-95): 100%|██████████| 7/7 [01:14<00:00, 10.65s/it]\n",
      "                   all        195        397      0.732      0.413      0.494      0.296      0.758      0.411      0.486      0.289\n",
      "\n",
      "      Epoch    GPU_mem   box_loss   seg_loss   cls_loss   dfl_loss  Instances       Size\n",
      "      24/50         0G      1.092      2.104      1.041      1.141         86        640: 100%|██████████| 75/75 [17:30<00:00, 14.01s/it]\n",
      "                 Class     Images  Instances      Box(P          R      mAP50  mAP50-95)     Mask(P          R      mAP50  mAP50-95): 100%|██████████| 7/7 [01:13<00:00, 10.45s/it]\n",
      "                   all        195        397      0.799       0.43      0.491      0.326      0.807      0.437      0.497      0.309\n",
      "\n",
      "      Epoch    GPU_mem   box_loss   seg_loss   cls_loss   dfl_loss  Instances       Size\n",
      "      25/50         0G      1.094      2.102      1.029      1.141         96        640: 100%|██████████| 75/75 [17:41<00:00, 14.15s/it]\n",
      "                 Class     Images  Instances      Box(P          R      mAP50  mAP50-95)     Mask(P          R      mAP50  mAP50-95): 100%|██████████| 7/7 [01:15<00:00, 10.74s/it]\n",
      "                   all        195        397       0.79      0.442      0.516       0.32      0.798      0.434      0.511      0.319\n",
      "\n",
      "      Epoch    GPU_mem   box_loss   seg_loss   cls_loss   dfl_loss  Instances       Size\n",
      "      26/50         0G      1.075      2.092      1.005      1.131        105        640: 100%|██████████| 75/75 [17:36<00:00, 14.08s/it]\n",
      "                 Class     Images  Instances      Box(P          R      mAP50  mAP50-95)     Mask(P          R      mAP50  mAP50-95): 100%|██████████| 7/7 [01:13<00:00, 10.53s/it]\n",
      "                   all        195        397      0.728      0.462      0.499      0.318      0.795      0.432      0.494      0.304\n",
      "\n",
      "      Epoch    GPU_mem   box_loss   seg_loss   cls_loss   dfl_loss  Instances       Size\n",
      "      27/50         0G      1.064      2.066      1.012      1.123         88        640: 100%|██████████| 75/75 [17:37<00:00, 14.11s/it]\n",
      "                 Class     Images  Instances      Box(P          R      mAP50  mAP50-95)     Mask(P          R      mAP50  mAP50-95): 100%|██████████| 7/7 [01:16<00:00, 10.96s/it]\n",
      "                   all        195        397      0.732      0.436      0.503      0.323      0.742      0.441      0.505      0.321\n",
      "\n",
      "      Epoch    GPU_mem   box_loss   seg_loss   cls_loss   dfl_loss  Instances       Size\n",
      "      28/50         0G      1.051      2.053     0.9912      1.129        117        640: 100%|██████████| 75/75 [17:31<00:00, 14.03s/it]\n",
      "                 Class     Images  Instances      Box(P          R      mAP50  mAP50-95)     Mask(P          R      mAP50  mAP50-95): 100%|██████████| 7/7 [01:11<00:00, 10.18s/it]\n",
      "                   all        195        397       0.57      0.597      0.593      0.362      0.573      0.602      0.595       0.32\n",
      "\n",
      "      Epoch    GPU_mem   box_loss   seg_loss   cls_loss   dfl_loss  Instances       Size\n",
      "      29/50         0G      1.047      2.032     0.9839       1.11         75        640: 100%|██████████| 75/75 [17:35<00:00, 14.07s/it]\n",
      "                 Class     Images  Instances      Box(P          R      mAP50  mAP50-95)     Mask(P          R      mAP50  mAP50-95): 100%|██████████| 7/7 [01:10<00:00, 10.00s/it]\n",
      "                   all        195        397      0.744      0.417      0.535      0.366      0.709      0.438      0.536      0.359\n",
      "\n",
      "      Epoch    GPU_mem   box_loss   seg_loss   cls_loss   dfl_loss  Instances       Size\n",
      "      30/50         0G      1.042      2.025     0.9576       1.11        109        640:  67%|██████▋   | 50/75 [11:39<05:54, 14.20s/it]wandb: ERROR Dropped streaming file chunk (see wandb/debug-internal.log)\n",
      "      30/50         0G      1.038      2.013     0.9384      1.107         96        640: 100%|██████████| 75/75 [17:28<00:00, 13.98s/it]\n",
      "                 Class     Images  Instances      Box(P          R      mAP50  mAP50-95)     Mask(P          R      mAP50  mAP50-95): 100%|██████████| 7/7 [01:11<00:00, 10.18s/it]\n",
      "                   all        195        397      0.547      0.652      0.624      0.421      0.549      0.656      0.627      0.375\n",
      "\n",
      "      Epoch    GPU_mem   box_loss   seg_loss   cls_loss   dfl_loss  Instances       Size\n",
      "      31/50         0G      1.034      1.988     0.9388      1.108         73        640: 100%|██████████| 75/75 [17:30<00:00, 14.00s/it]\n",
      "                 Class     Images  Instances      Box(P          R      mAP50  mAP50-95)     Mask(P          R      mAP50  mAP50-95): 100%|██████████| 7/7 [01:10<00:00, 10.06s/it]\n",
      "                   all        195        397       0.76      0.457      0.501      0.333       0.76      0.457      0.498      0.333\n",
      "\n",
      "      Epoch    GPU_mem   box_loss   seg_loss   cls_loss   dfl_loss  Instances       Size\n",
      "      32/50         0G      1.017      1.972     0.9346      1.107         94        640: 100%|██████████| 75/75 [17:22<00:00, 13.90s/it]\n",
      "                 Class     Images  Instances      Box(P          R      mAP50  mAP50-95)     Mask(P          R      mAP50  mAP50-95): 100%|██████████| 7/7 [01:09<00:00,  9.91s/it]\n",
      "                   all        195        397      0.726      0.413      0.498       0.33      0.724      0.411      0.491      0.329\n",
      "\n",
      "      Epoch    GPU_mem   box_loss   seg_loss   cls_loss   dfl_loss  Instances       Size\n",
      "      33/50         0G     0.9911      1.942     0.9243      1.099        167        640: 100%|██████████| 75/75 [17:24<00:00, 13.92s/it]\n",
      "                 Class     Images  Instances      Box(P          R      mAP50  mAP50-95)     Mask(P          R      mAP50  mAP50-95): 100%|██████████| 7/7 [01:07<00:00,  9.58s/it]\n",
      "                   all        195        397      0.539      0.627       0.56      0.375      0.534      0.627      0.557      0.375\n",
      "\n",
      "      Epoch    GPU_mem   box_loss   seg_loss   cls_loss   dfl_loss  Instances       Size\n",
      "      34/50         0G      0.988      1.906     0.9038      1.086         99        640: 100%|██████████| 75/75 [17:21<00:00, 13.88s/it]\n",
      "                 Class     Images  Instances      Box(P          R      mAP50  mAP50-95)     Mask(P          R      mAP50  mAP50-95): 100%|██████████| 7/7 [01:09<00:00,  9.91s/it]\n",
      "                   all        195        397      0.822      0.601      0.637      0.413      0.823      0.603      0.632      0.399\n",
      "\n",
      "      Epoch    GPU_mem   box_loss   seg_loss   cls_loss   dfl_loss  Instances       Size\n",
      "      35/50         0G     0.9683      1.922     0.8758      1.073         88        640: 100%|██████████| 75/75 [17:30<00:00, 14.01s/it]\n",
      "                 Class     Images  Instances      Box(P          R      mAP50  mAP50-95)     Mask(P          R      mAP50  mAP50-95): 100%|██████████| 7/7 [01:13<00:00, 10.51s/it]\n",
      "                   all        195        397      0.873      0.577      0.628       0.42      0.874      0.578      0.627      0.427\n",
      "\n",
      "      Epoch    GPU_mem   box_loss   seg_loss   cls_loss   dfl_loss  Instances       Size\n",
      "      36/50         0G     0.9784      1.899     0.8777      1.077         74        640: 100%|██████████| 75/75 [17:31<00:00, 14.02s/it]\n",
      "                 Class     Images  Instances      Box(P          R      mAP50  mAP50-95)     Mask(P          R      mAP50  mAP50-95): 100%|██████████| 7/7 [01:11<00:00, 10.25s/it]\n",
      "                   all        195        397      0.608      0.628      0.596      0.393      0.604      0.625      0.589      0.391\n",
      "\n",
      "      Epoch    GPU_mem   box_loss   seg_loss   cls_loss   dfl_loss  Instances       Size\n",
      "      37/50         0G     0.9677      1.873     0.8656      1.087        115        640:  77%|███████▋  | 58/75 [13:29<03:57, 13.99s/it]wandb: ERROR Dropped streaming file chunk (see wandb/debug-internal.log)\n",
      "      37/50         0G     0.9795       1.89     0.8735      1.086        115        640: 100%|██████████| 75/75 [17:32<00:00, 14.04s/it]\n",
      "                 Class     Images  Instances      Box(P          R      mAP50  mAP50-95)     Mask(P          R      mAP50  mAP50-95): 100%|██████████| 7/7 [01:14<00:00, 10.66s/it]\n",
      "                   all        195        397      0.749      0.444      0.589      0.413      0.755      0.449      0.593      0.396\n",
      "\n",
      "      Epoch    GPU_mem   box_loss   seg_loss   cls_loss   dfl_loss  Instances       Size\n",
      "      38/50         0G     0.9727      1.893     0.8652      1.079         89        640: 100%|██████████| 75/75 [17:46<00:00, 14.22s/it]\n",
      "                 Class     Images  Instances      Box(P          R      mAP50  mAP50-95)     Mask(P          R      mAP50  mAP50-95): 100%|██████████| 7/7 [01:12<00:00, 10.30s/it]\n",
      "                   all        195        397      0.813      0.457      0.575      0.389      0.816       0.46      0.574      0.391\n",
      "\n",
      "      Epoch    GPU_mem   box_loss   seg_loss   cls_loss   dfl_loss  Instances       Size\n",
      "      39/50         0G     0.9514      1.888       0.86      1.071         86        640: 100%|██████████| 75/75 [17:39<00:00, 14.13s/it]\n",
      "                 Class     Images  Instances      Box(P          R      mAP50  mAP50-95)     Mask(P          R      mAP50  mAP50-95): 100%|██████████| 7/7 [01:09<00:00,  9.94s/it]\n",
      "                   all        195        397      0.743      0.455      0.592      0.427      0.739      0.458       0.59      0.383\n",
      "\n",
      "      Epoch    GPU_mem   box_loss   seg_loss   cls_loss   dfl_loss  Instances       Size\n",
      "      40/50         0G     0.9627      1.817     0.8579      1.072        107        640: 100%|██████████| 75/75 [17:46<00:00, 14.22s/it]\n",
      "                 Class     Images  Instances      Box(P          R      mAP50  mAP50-95)     Mask(P          R      mAP50  mAP50-95): 100%|██████████| 7/7 [01:15<00:00, 10.73s/it]\n",
      "                   all        195        397       0.69       0.46      0.541      0.383      0.693       0.46       0.54      0.369\n",
      "Closing dataloader mosaic\n",
      "\n",
      "      Epoch    GPU_mem   box_loss   seg_loss   cls_loss   dfl_loss  Instances       Size\n",
      "      41/50         0G     0.9261      1.757     0.8097      1.053         41        640: 100%|██████████| 75/75 [17:05<00:00, 13.68s/it]\n",
      "                 Class     Images  Instances      Box(P          R      mAP50  mAP50-95)     Mask(P          R      mAP50  mAP50-95): 100%|██████████| 7/7 [01:07<00:00,  9.66s/it]\n",
      "                   all        195        397      0.748      0.458      0.532      0.379      0.774      0.456      0.534      0.358\n",
      "\n",
      "      Epoch    GPU_mem   box_loss   seg_loss   cls_loss   dfl_loss  Instances       Size\n",
      "      42/50         0G     0.8857      1.724     0.7365      1.035         43        640: 100%|██████████| 75/75 [17:08<00:00, 13.72s/it]\n",
      "                 Class     Images  Instances      Box(P          R      mAP50  mAP50-95)     Mask(P          R      mAP50  mAP50-95): 100%|██████████| 7/7 [01:12<00:00, 10.35s/it]\n",
      "                   all        195        397      0.565      0.637      0.593      0.396      0.564      0.636      0.592      0.416\n",
      "\n",
      "      Epoch    GPU_mem   box_loss   seg_loss   cls_loss   dfl_loss  Instances       Size\n",
      "      43/50         0G     0.8777      1.686      0.735      1.038         57        640: 100%|██████████| 75/75 [17:08<00:00, 13.71s/it]\n",
      "                 Class     Images  Instances      Box(P          R      mAP50  mAP50-95)     Mask(P          R      mAP50  mAP50-95): 100%|██████████| 7/7 [01:11<00:00, 10.25s/it]\n",
      "                   all        195        397      0.612      0.611      0.566      0.386      0.612      0.606      0.571      0.409\n",
      "\n",
      "      Epoch    GPU_mem   box_loss   seg_loss   cls_loss   dfl_loss  Instances       Size\n",
      "      44/50         0G     0.8562      1.659     0.7132      1.025         43        640: 100%|██████████| 75/75 [17:01<00:00, 13.62s/it]\n",
      "                 Class     Images  Instances      Box(P          R      mAP50  mAP50-95)     Mask(P          R      mAP50  mAP50-95): 100%|██████████| 7/7 [01:04<00:00,  9.25s/it]\n",
      "                   all        195        397      0.667      0.616      0.583      0.384      0.671      0.621      0.585      0.407\n",
      "\n",
      "      Epoch    GPU_mem   box_loss   seg_loss   cls_loss   dfl_loss  Instances       Size\n",
      "      45/50         0G     0.8481      1.662      0.702      1.021         42        640: 100%|██████████| 75/75 [16:57<00:00, 13.57s/it]\n",
      "                 Class     Images  Instances      Box(P          R      mAP50  mAP50-95)     Mask(P          R      mAP50  mAP50-95): 100%|██████████| 7/7 [01:05<00:00,  9.36s/it]\n",
      "                   all        195        397      0.766      0.443      0.555      0.374      0.785      0.448      0.562       0.38\n",
      "\n",
      "      Epoch    GPU_mem   box_loss   seg_loss   cls_loss   dfl_loss  Instances       Size\n",
      "      46/50         0G     0.8292      1.625     0.6851      1.009         54        640: 100%|██████████| 75/75 [16:59<00:00, 13.59s/it]\n",
      "                 Class     Images  Instances      Box(P          R      mAP50  mAP50-95)     Mask(P          R      mAP50  mAP50-95): 100%|██████████| 7/7 [01:11<00:00, 10.27s/it]\n",
      "                   all        195        397      0.572      0.648      0.598      0.428      0.571      0.644      0.602       0.44\n",
      "\n",
      "      Epoch    GPU_mem   box_loss   seg_loss   cls_loss   dfl_loss  Instances       Size\n",
      "      47/50         0G     0.8225       1.61     0.6723      1.007         73        640: 100%|██████████| 75/75 [17:01<00:00, 13.62s/it]\n",
      "                 Class     Images  Instances      Box(P          R      mAP50  mAP50-95)     Mask(P          R      mAP50  mAP50-95): 100%|██████████| 7/7 [01:08<00:00,  9.75s/it]\n",
      "                   all        195        397      0.871      0.583      0.632      0.442      0.875      0.584       0.63      0.452\n",
      "\n",
      "      Epoch    GPU_mem   box_loss   seg_loss   cls_loss   dfl_loss  Instances       Size\n",
      "      48/50         0G     0.8215      1.581     0.6648      1.007         62        640: 100%|██████████| 75/75 [16:57<00:00, 13.56s/it]\n",
      "                 Class     Images  Instances      Box(P          R      mAP50  mAP50-95)     Mask(P          R      mAP50  mAP50-95): 100%|██████████| 7/7 [01:07<00:00,  9.67s/it]\n",
      "                   all        195        397      0.669      0.615      0.581       0.41      0.669      0.615      0.582      0.416\n",
      "\n",
      "      Epoch    GPU_mem   box_loss   seg_loss   cls_loss   dfl_loss  Instances       Size\n",
      "      49/50         0G     0.8015      1.563     0.6481     0.9947         89        640: 100%|██████████| 75/75 [16:55<00:00, 13.54s/it]\n",
      "                 Class     Images  Instances      Box(P          R      mAP50  mAP50-95)     Mask(P          R      mAP50  mAP50-95): 100%|██████████| 7/7 [01:07<00:00,  9.61s/it]\n",
      "                   all        195        397      0.662      0.637      0.612      0.422      0.658      0.633      0.609      0.428\n",
      "\n",
      "      Epoch    GPU_mem   box_loss   seg_loss   cls_loss   dfl_loss  Instances       Size\n",
      "      50/50         0G     0.7997      1.548     0.6498     0.9966         40        640: 100%|██████████| 75/75 [16:59<00:00, 13.59s/it]\n",
      "                 Class     Images  Instances      Box(P          R      mAP50  mAP50-95)     Mask(P          R      mAP50  mAP50-95): 100%|██████████| 7/7 [01:12<00:00, 10.41s/it]\n",
      "                   all        195        397      0.689      0.608      0.581      0.408      0.694      0.611      0.584      0.415\n",
      "\n",
      "50 epochs completed in 15.518 hours.\n",
      "Optimizer stripped from runs/segment/pothole2/weights/last.pt, 6.8MB\n",
      "Optimizer stripped from runs/segment/pothole2/weights/best.pt, 6.8MB\n",
      "\n",
      "Validating runs/segment/pothole2/weights/best.pt...\n",
      "Ultralytics YOLOv8.0.201 🚀 Python-3.10.12 torch-2.0.0+cu117 CPU (Intel Core(TM) i5-6200U 2.30GHz)\n",
      "YOLOv8n-seg summary (fused): 195 layers, 3258649 parameters, 0 gradients, 12.0 GFLOPs\n",
      "                 Class     Images  Instances      Box(P          R      mAP50  mAP50-95)     Mask(P          R      mAP50  mAP50-95): 100%|██████████| 7/7 [01:04<00:00,  9.21s/it]\n",
      "                   all        195        397      0.871      0.581      0.632      0.442      0.876      0.584       0.63      0.452\n",
      "               Manhole        195          4          1      0.484      0.539      0.394          1      0.483      0.539      0.432\n",
      "               Pothole        195        393      0.741      0.678      0.724      0.491      0.752      0.684      0.721      0.473\n",
      "Speed: 4.1ms preprocess, 278.9ms inference, 0.0ms loss, 0.9ms postprocess per image\n",
      "Results saved to \u001b[1mruns/segment/pothole2\u001b[0m\n",
      "wandb: Network error (ConnectionError), entering retry loop.\n",
      "wandb: Network error (ConnectionError), entering retry loop.\n",
      "\u001b[34m\u001b[1mwandb\u001b[0m: Network error (ConnectionError), entering retry loop.\n",
      "\u001b[34m\u001b[1mwandb\u001b[0m: Network error (ConnectionError), entering retry loop.\n",
      "wandb: Network error (ConnectionError), entering retry loop.\n",
      "\u001b[34m\u001b[1mwandb\u001b[0m: Network error (ConnectionError), entering retry loop.\n",
      "wandb: Network error (ConnectionError), entering retry loop.\n",
      "\u001b[34m\u001b[1mwandb\u001b[0m: Network error (ConnectionError), entering retry loop.\n",
      "wandb: Network error (ConnectionError), entering retry loop.\n",
      "\u001b[34m\u001b[1mwandb\u001b[0m: Network error (ConnectionError), entering retry loop.\n",
      "wandb: Network error (ConnectionError), entering retry loop.\n",
      "\u001b[34m\u001b[1mwandb\u001b[0m: Network error (ConnectionError), entering retry loop.\n",
      "wandb: Network error (ConnectionError), entering retry loop.\n",
      "\u001b[34m\u001b[1mwandb\u001b[0m: Network error (ConnectionError), entering retry loop.\n"
     ]
    },
    {
     "data": {
      "text/html": [
       "<style>\n",
       "    table.wandb td:nth-child(1) { padding: 0 10px; text-align: left ; width: auto;} td:nth-child(2) {text-align: left ; width: 100%}\n",
       "    .wandb-row { display: flex; flex-direction: row; flex-wrap: wrap; justify-content: flex-start; width: 100% }\n",
       "    .wandb-col { display: flex; flex-direction: column; flex-basis: 100%; flex: 1; padding: 10px; }\n",
       "    </style>\n",
       "<div class=\"wandb-row\"><div class=\"wandb-col\"><h3>Run history:</h3><br/><table class=\"wandb\"><tr><td>lr/pg0</td><td>▃▆████▇▇▇▇▇▇▆▆▆▆▅▅▅▅▅▅▄▄▄▄▄▃▃▃▃▃▂▂▂▂▂▁▁▁</td></tr><tr><td>lr/pg1</td><td>▃▆████▇▇▇▇▇▇▆▆▆▆▅▅▅▅▅▅▄▄▄▄▄▃▃▃▃▃▂▂▂▂▂▁▁▁</td></tr><tr><td>lr/pg2</td><td>▃▆████▇▇▇▇▇▇▆▆▆▆▅▅▅▅▅▅▄▄▄▄▄▃▃▃▃▃▂▂▂▂▂▁▁▁</td></tr><tr><td>metrics/mAP50(B)</td><td>▁▁▂▁▂▃▃▃▃▄▃▃▃▄▅▄▆▆▆▆▆▆▇▇▆▆▇█▇▇▇▇▇▇▇▇▇█▇█</td></tr><tr><td>metrics/mAP50(M)</td><td>▁▁▂▁▂▃▃▃▃▄▃▃▃▅▅▄▆▆▆▆▆▆▇▇▆▆▇█▇▇▇▇▇▇▇▇██▇█</td></tr><tr><td>metrics/mAP50-95(B)</td><td>▁▂▂▁▂▂▃▃▃▃▃▃▃▄▅▄▅▅▅▆▆▆▇▇▆▆▇▇▇▇▇█▇▇▇▇██▇█</td></tr><tr><td>metrics/mAP50-95(M)</td><td>▁▁▂▁▂▂▃▃▃▃▃▃▃▄▄▄▅▅▅▅▅▆▆▆▆▆▇▇▇▇▇▇▆▇▇▇██▇█</td></tr><tr><td>metrics/precision(B)</td><td>▇▆▆▅▇▇▇▇▇█▇▇▇█▁█▆█▆▇▆▆▃▆▆▆▃▇▄▆▇▆▆▃▄▅▃█▅█</td></tr><tr><td>metrics/precision(M)</td><td>▇▆▆▅▇▇▆▇██▇▇▇▇▁█▆▆▆▇▇▆▃▅▆▆▃▇▄▆▇▆▆▃▄▅▃█▅█</td></tr><tr><td>metrics/recall(B)</td><td>▁▂▂▂▂▃▃▃▃▃▃▃▃▃▆▃▅▅▅▅▆▅▇▅▅▅█▇█▅▅▅▆████▇█▇</td></tr><tr><td>metrics/recall(M)</td><td>▁▂▃▂▃▃▃▃▃▃▄▃▄▄▆▄▅▅▅▅▅▅▇▅▆▅█▇█▆▆▆▆████▇█▇</td></tr><tr><td>model/GFLOPs</td><td>▁</td></tr><tr><td>model/parameters</td><td>▁</td></tr><tr><td>model/speed_PyTorch(ms)</td><td>▁</td></tr><tr><td>train/box_loss</td><td>█▇██▇▆▇▆▆▆▆▅▅▅▅▅▄▄▄▄▄▄▄▃▃▃▃▃▃▃▃▃▂▂▂▂▁▁▁▁</td></tr><tr><td>train/cls_loss</td><td>█▅▅▅▄▄▄▄▄▃▃▃▃▃▃▃▃▃▃▂▂▂▂▂▂▂▂▂▂▂▂▂▂▁▁▁▁▁▁▁</td></tr><tr><td>train/dfl_loss</td><td>█▇▇▇▆▆▆▆▅▅▅▅▄▄▄▄▄▄▄▃▃▃▃▃▃▃▃▂▂▂▂▂▂▂▂▁▁▁▁▁</td></tr><tr><td>train/seg_loss</td><td>█▆▆▆▆▅▅▅▅▅▅▄▄▄▄▄▃▄▄▃▃▃▃▃▃▃▃▂▂▂▂▂▂▂▂▁▁▁▁▁</td></tr><tr><td>val/box_loss</td><td>▆▅▅█▅▄▄▄▄▄▄▄▃▄▃▃▃▂▃▃▂▃▃▂▂▃▂▂▂▂▂▁▁▁▁▁▁▁▁▁</td></tr><tr><td>val/cls_loss</td><td>▆█▄▆▃▄▃▂▂▂▂▂▃▂▂▂▂▂▂▂▁▁▁▁▁▂▁▁▁▁▁▁▁▁▁▁▁▁▁▁</td></tr><tr><td>val/dfl_loss</td><td>▅▆▄█▄▄▃▃▃▃▃▃▂▃▂▂▃▂▂▂▂▂▂▂▂▂▂▂▂▂▂▁▁▁▁▁▁▁▁▁</td></tr><tr><td>val/seg_loss</td><td>█▇▇█▅▅▄▄▃▃▄▃▃▃▃▃▂▂▂▂▂▂▂▁▃▃▂▂▂▁▁▁▁▁▁▁▁▁▁▁</td></tr></table><br/></div><div class=\"wandb-col\"><h3>Run summary:</h3><br/><table class=\"wandb\"><tr><td>lr/pg0</td><td>7e-05</td></tr><tr><td>lr/pg1</td><td>7e-05</td></tr><tr><td>lr/pg2</td><td>7e-05</td></tr><tr><td>metrics/mAP50(B)</td><td>0.63165</td></tr><tr><td>metrics/mAP50(M)</td><td>0.63025</td></tr><tr><td>metrics/mAP50-95(B)</td><td>0.44227</td></tr><tr><td>metrics/mAP50-95(M)</td><td>0.45224</td></tr><tr><td>metrics/precision(B)</td><td>0.87059</td></tr><tr><td>metrics/precision(M)</td><td>0.8758</td></tr><tr><td>metrics/recall(B)</td><td>0.58086</td></tr><tr><td>metrics/recall(M)</td><td>0.58376</td></tr><tr><td>model/GFLOPs</td><td>12.111</td></tr><tr><td>model/parameters</td><td>3264201</td></tr><tr><td>model/speed_PyTorch(ms)</td><td>303.291</td></tr><tr><td>train/box_loss</td><td>0.79974</td></tr><tr><td>train/cls_loss</td><td>0.64976</td></tr><tr><td>train/dfl_loss</td><td>0.9966</td></tr><tr><td>train/seg_loss</td><td>1.54767</td></tr><tr><td>val/box_loss</td><td>1.12523</td></tr><tr><td>val/cls_loss</td><td>1.01257</td></tr><tr><td>val/dfl_loss</td><td>1.20832</td></tr><tr><td>val/seg_loss</td><td>1.98275</td></tr></table><br/></div></div>"
      ],
      "text/plain": [
       "<IPython.core.display.HTML object>"
      ]
     },
     "metadata": {},
     "output_type": "display_data"
    },
    {
     "data": {
      "text/html": [
       " View run <strong style=\"color:#cdcd00\">pothole2</strong> at: <a href='https://wandb.ai/hamdanialhassangandi2020-Kwame%20Nkrumah%20University%20of%20Sci/YOLOv8/runs/c3a3n3q0' target=\"_blank\">https://wandb.ai/hamdanialhassangandi2020-Kwame%20Nkrumah%20University%20of%20Sci/YOLOv8/runs/c3a3n3q0</a><br/> View project at: <a href='https://wandb.ai/hamdanialhassangandi2020-Kwame%20Nkrumah%20University%20of%20Sci/YOLOv8' target=\"_blank\">https://wandb.ai/hamdanialhassangandi2020-Kwame%20Nkrumah%20University%20of%20Sci/YOLOv8</a><br/>Synced 5 W&B file(s), 32 media file(s), 9 artifact file(s) and 0 other file(s)"
      ],
      "text/plain": [
       "<IPython.core.display.HTML object>"
      ]
     },
     "metadata": {},
     "output_type": "display_data"
    },
    {
     "data": {
      "text/html": [
       "Find logs at: <code>./wandb/run-20240707_000131-c3a3n3q0/logs</code>"
      ],
      "text/plain": [
       "<IPython.core.display.HTML object>"
      ]
     },
     "metadata": {},
     "output_type": "display_data"
    },
    {
     "data": {
      "text/html": [
       "The new W&B backend becomes opt-out in version 0.18.0; try it out with `wandb.require(\"core\")`! See https://wandb.me/wandb-core for more information."
      ],
      "text/plain": [
       "<IPython.core.display.HTML object>"
      ]
     },
     "metadata": {},
     "output_type": "display_data"
    }
   ],
   "source": [
    "model = YOLO('yolov8n-seg.pt')\n",
    "\n",
    "#Train the model\n",
    "results = model.train(\n",
    "    data=\"/home/lusitech/ComputerVision/PotholeDetection/pothole-img/data.yaml\",\n",
    "    epochs=50,\n",
    "    imgsz=640,\n",
    "    batch=16,\n",
    "    device='cpu',\n",
    "    name='pothole'\n",
    ")"
   ]
  },
  {
   "cell_type": "code",
   "execution_count": 16,
   "metadata": {},
   "outputs": [
    {
     "ename": "FileNotFoundError",
     "evalue": "[Errno 2] No such file or directory: '/training/runs/segment/pothole2/weights/best.pt'",
     "output_type": "error",
     "traceback": [
      "\u001b[0;31m---------------------------------------------------------------------------\u001b[0m",
      "\u001b[0;31mFileNotFoundError\u001b[0m                         Traceback (most recent call last)",
      "Cell \u001b[0;32mIn[16], line 2\u001b[0m\n\u001b[1;32m      1\u001b[0m \u001b[38;5;66;03m# Load the trained model\u001b[39;00m\n\u001b[0;32m----> 2\u001b[0m model_pt \u001b[38;5;241m=\u001b[39m \u001b[43mYOLO\u001b[49m\u001b[43m(\u001b[49m\u001b[38;5;124;43m\"\u001b[39;49m\u001b[38;5;124;43m/training/runs/segment/pothole2/weights/best.pt\u001b[39;49m\u001b[38;5;124;43m\"\u001b[39;49m\u001b[43m)\u001b[49m\n\u001b[1;32m      4\u001b[0m \u001b[38;5;66;03m# Perform inference\u001b[39;00m\n\u001b[1;32m      5\u001b[0m model \u001b[38;5;241m=\u001b[39m YOLO(model_pt)\n",
      "File \u001b[0;32m~/ComputerVision/PotholeDetection/venv/lib/python3.10/site-packages/ultralytics/engine/model.py:97\u001b[0m, in \u001b[0;36mModel.__init__\u001b[0;34m(self, model, task)\u001b[0m\n\u001b[1;32m     95\u001b[0m     \u001b[38;5;28mself\u001b[39m\u001b[38;5;241m.\u001b[39m_new(model, task)\n\u001b[1;32m     96\u001b[0m \u001b[38;5;28;01melse\u001b[39;00m:\n\u001b[0;32m---> 97\u001b[0m     \u001b[38;5;28;43mself\u001b[39;49m\u001b[38;5;241;43m.\u001b[39;49m\u001b[43m_load\u001b[49m\u001b[43m(\u001b[49m\u001b[43mmodel\u001b[49m\u001b[43m,\u001b[49m\u001b[43m \u001b[49m\u001b[43mtask\u001b[49m\u001b[43m)\u001b[49m\n",
      "File \u001b[0;32m~/ComputerVision/PotholeDetection/venv/lib/python3.10/site-packages/ultralytics/engine/model.py:149\u001b[0m, in \u001b[0;36mModel._load\u001b[0;34m(self, weights, task)\u001b[0m\n\u001b[1;32m    147\u001b[0m suffix \u001b[38;5;241m=\u001b[39m Path(weights)\u001b[38;5;241m.\u001b[39msuffix\n\u001b[1;32m    148\u001b[0m \u001b[38;5;28;01mif\u001b[39;00m suffix \u001b[38;5;241m==\u001b[39m \u001b[38;5;124m'\u001b[39m\u001b[38;5;124m.pt\u001b[39m\u001b[38;5;124m'\u001b[39m:\n\u001b[0;32m--> 149\u001b[0m     \u001b[38;5;28mself\u001b[39m\u001b[38;5;241m.\u001b[39mmodel, \u001b[38;5;28mself\u001b[39m\u001b[38;5;241m.\u001b[39mckpt \u001b[38;5;241m=\u001b[39m \u001b[43mattempt_load_one_weight\u001b[49m\u001b[43m(\u001b[49m\u001b[43mweights\u001b[49m\u001b[43m)\u001b[49m\n\u001b[1;32m    150\u001b[0m     \u001b[38;5;28mself\u001b[39m\u001b[38;5;241m.\u001b[39mtask \u001b[38;5;241m=\u001b[39m \u001b[38;5;28mself\u001b[39m\u001b[38;5;241m.\u001b[39mmodel\u001b[38;5;241m.\u001b[39margs[\u001b[38;5;124m'\u001b[39m\u001b[38;5;124mtask\u001b[39m\u001b[38;5;124m'\u001b[39m]\n\u001b[1;32m    151\u001b[0m     \u001b[38;5;28mself\u001b[39m\u001b[38;5;241m.\u001b[39moverrides \u001b[38;5;241m=\u001b[39m \u001b[38;5;28mself\u001b[39m\u001b[38;5;241m.\u001b[39mmodel\u001b[38;5;241m.\u001b[39margs \u001b[38;5;241m=\u001b[39m \u001b[38;5;28mself\u001b[39m\u001b[38;5;241m.\u001b[39m_reset_ckpt_args(\u001b[38;5;28mself\u001b[39m\u001b[38;5;241m.\u001b[39mmodel\u001b[38;5;241m.\u001b[39margs)\n",
      "File \u001b[0;32m~/ComputerVision/PotholeDetection/venv/lib/python3.10/site-packages/ultralytics/nn/tasks.py:628\u001b[0m, in \u001b[0;36mattempt_load_one_weight\u001b[0;34m(weight, device, inplace, fuse)\u001b[0m\n\u001b[1;32m    626\u001b[0m \u001b[38;5;28;01mdef\u001b[39;00m \u001b[38;5;21mattempt_load_one_weight\u001b[39m(weight, device\u001b[38;5;241m=\u001b[39m\u001b[38;5;28;01mNone\u001b[39;00m, inplace\u001b[38;5;241m=\u001b[39m\u001b[38;5;28;01mTrue\u001b[39;00m, fuse\u001b[38;5;241m=\u001b[39m\u001b[38;5;28;01mFalse\u001b[39;00m):\n\u001b[1;32m    627\u001b[0m \u001b[38;5;250m    \u001b[39m\u001b[38;5;124;03m\"\"\"Loads a single model weights.\"\"\"\u001b[39;00m\n\u001b[0;32m--> 628\u001b[0m     ckpt, weight \u001b[38;5;241m=\u001b[39m \u001b[43mtorch_safe_load\u001b[49m\u001b[43m(\u001b[49m\u001b[43mweight\u001b[49m\u001b[43m)\u001b[49m  \u001b[38;5;66;03m# load ckpt\u001b[39;00m\n\u001b[1;32m    629\u001b[0m     args \u001b[38;5;241m=\u001b[39m {\u001b[38;5;241m*\u001b[39m\u001b[38;5;241m*\u001b[39mDEFAULT_CFG_DICT, \u001b[38;5;241m*\u001b[39m\u001b[38;5;241m*\u001b[39m(ckpt\u001b[38;5;241m.\u001b[39mget(\u001b[38;5;124m'\u001b[39m\u001b[38;5;124mtrain_args\u001b[39m\u001b[38;5;124m'\u001b[39m, {}))}  \u001b[38;5;66;03m# combine model and default args, preferring model args\u001b[39;00m\n\u001b[1;32m    630\u001b[0m     model \u001b[38;5;241m=\u001b[39m (ckpt\u001b[38;5;241m.\u001b[39mget(\u001b[38;5;124m'\u001b[39m\u001b[38;5;124mema\u001b[39m\u001b[38;5;124m'\u001b[39m) \u001b[38;5;129;01mor\u001b[39;00m ckpt[\u001b[38;5;124m'\u001b[39m\u001b[38;5;124mmodel\u001b[39m\u001b[38;5;124m'\u001b[39m])\u001b[38;5;241m.\u001b[39mto(device)\u001b[38;5;241m.\u001b[39mfloat()  \u001b[38;5;66;03m# FP32 model\u001b[39;00m\n",
      "File \u001b[0;32m~/ComputerVision/PotholeDetection/venv/lib/python3.10/site-packages/ultralytics/nn/tasks.py:567\u001b[0m, in \u001b[0;36mtorch_safe_load\u001b[0;34m(weight)\u001b[0m\n\u001b[1;32m    562\u001b[0m \u001b[38;5;28;01mtry\u001b[39;00m:\n\u001b[1;32m    563\u001b[0m     \u001b[38;5;28;01mwith\u001b[39;00m temporary_modules({\n\u001b[1;32m    564\u001b[0m             \u001b[38;5;124m'\u001b[39m\u001b[38;5;124multralytics.yolo.utils\u001b[39m\u001b[38;5;124m'\u001b[39m: \u001b[38;5;124m'\u001b[39m\u001b[38;5;124multralytics.utils\u001b[39m\u001b[38;5;124m'\u001b[39m,\n\u001b[1;32m    565\u001b[0m             \u001b[38;5;124m'\u001b[39m\u001b[38;5;124multralytics.yolo.v8\u001b[39m\u001b[38;5;124m'\u001b[39m: \u001b[38;5;124m'\u001b[39m\u001b[38;5;124multralytics.models.yolo\u001b[39m\u001b[38;5;124m'\u001b[39m,\n\u001b[1;32m    566\u001b[0m             \u001b[38;5;124m'\u001b[39m\u001b[38;5;124multralytics.yolo.data\u001b[39m\u001b[38;5;124m'\u001b[39m: \u001b[38;5;124m'\u001b[39m\u001b[38;5;124multralytics.data\u001b[39m\u001b[38;5;124m'\u001b[39m}):  \u001b[38;5;66;03m# for legacy 8.0 Classify and Pose models\u001b[39;00m\n\u001b[0;32m--> 567\u001b[0m         \u001b[38;5;28;01mreturn\u001b[39;00m \u001b[43mtorch\u001b[49m\u001b[38;5;241;43m.\u001b[39;49m\u001b[43mload\u001b[49m\u001b[43m(\u001b[49m\u001b[43mfile\u001b[49m\u001b[43m,\u001b[49m\u001b[43m \u001b[49m\u001b[43mmap_location\u001b[49m\u001b[38;5;241;43m=\u001b[39;49m\u001b[38;5;124;43m'\u001b[39;49m\u001b[38;5;124;43mcpu\u001b[39;49m\u001b[38;5;124;43m'\u001b[39;49m\u001b[43m)\u001b[49m, file  \u001b[38;5;66;03m# load\u001b[39;00m\n\u001b[1;32m    569\u001b[0m \u001b[38;5;28;01mexcept\u001b[39;00m \u001b[38;5;167;01mModuleNotFoundError\u001b[39;00m \u001b[38;5;28;01mas\u001b[39;00m e:  \u001b[38;5;66;03m# e.name is missing module name\u001b[39;00m\n\u001b[1;32m    570\u001b[0m     \u001b[38;5;28;01mif\u001b[39;00m e\u001b[38;5;241m.\u001b[39mname \u001b[38;5;241m==\u001b[39m \u001b[38;5;124m'\u001b[39m\u001b[38;5;124mmodels\u001b[39m\u001b[38;5;124m'\u001b[39m:\n",
      "File \u001b[0;32m~/ComputerVision/PotholeDetection/venv/lib/python3.10/site-packages/torch/serialization.py:791\u001b[0m, in \u001b[0;36mload\u001b[0;34m(f, map_location, pickle_module, weights_only, **pickle_load_args)\u001b[0m\n\u001b[1;32m    788\u001b[0m \u001b[38;5;28;01mif\u001b[39;00m \u001b[38;5;124m'\u001b[39m\u001b[38;5;124mencoding\u001b[39m\u001b[38;5;124m'\u001b[39m \u001b[38;5;129;01mnot\u001b[39;00m \u001b[38;5;129;01min\u001b[39;00m pickle_load_args\u001b[38;5;241m.\u001b[39mkeys():\n\u001b[1;32m    789\u001b[0m     pickle_load_args[\u001b[38;5;124m'\u001b[39m\u001b[38;5;124mencoding\u001b[39m\u001b[38;5;124m'\u001b[39m] \u001b[38;5;241m=\u001b[39m \u001b[38;5;124m'\u001b[39m\u001b[38;5;124mutf-8\u001b[39m\u001b[38;5;124m'\u001b[39m\n\u001b[0;32m--> 791\u001b[0m \u001b[38;5;28;01mwith\u001b[39;00m \u001b[43m_open_file_like\u001b[49m\u001b[43m(\u001b[49m\u001b[43mf\u001b[49m\u001b[43m,\u001b[49m\u001b[43m \u001b[49m\u001b[38;5;124;43m'\u001b[39;49m\u001b[38;5;124;43mrb\u001b[39;49m\u001b[38;5;124;43m'\u001b[39;49m\u001b[43m)\u001b[49m \u001b[38;5;28;01mas\u001b[39;00m opened_file:\n\u001b[1;32m    792\u001b[0m     \u001b[38;5;28;01mif\u001b[39;00m _is_zipfile(opened_file):\n\u001b[1;32m    793\u001b[0m         \u001b[38;5;66;03m# The zipfile reader is going to advance the current file position.\u001b[39;00m\n\u001b[1;32m    794\u001b[0m         \u001b[38;5;66;03m# If we want to actually tail call to torch.jit.load, we need to\u001b[39;00m\n\u001b[1;32m    795\u001b[0m         \u001b[38;5;66;03m# reset back to the original position.\u001b[39;00m\n\u001b[1;32m    796\u001b[0m         orig_position \u001b[38;5;241m=\u001b[39m opened_file\u001b[38;5;241m.\u001b[39mtell()\n",
      "File \u001b[0;32m~/ComputerVision/PotholeDetection/venv/lib/python3.10/site-packages/torch/serialization.py:271\u001b[0m, in \u001b[0;36m_open_file_like\u001b[0;34m(name_or_buffer, mode)\u001b[0m\n\u001b[1;32m    269\u001b[0m \u001b[38;5;28;01mdef\u001b[39;00m \u001b[38;5;21m_open_file_like\u001b[39m(name_or_buffer, mode):\n\u001b[1;32m    270\u001b[0m     \u001b[38;5;28;01mif\u001b[39;00m _is_path(name_or_buffer):\n\u001b[0;32m--> 271\u001b[0m         \u001b[38;5;28;01mreturn\u001b[39;00m \u001b[43m_open_file\u001b[49m\u001b[43m(\u001b[49m\u001b[43mname_or_buffer\u001b[49m\u001b[43m,\u001b[49m\u001b[43m \u001b[49m\u001b[43mmode\u001b[49m\u001b[43m)\u001b[49m\n\u001b[1;32m    272\u001b[0m     \u001b[38;5;28;01melse\u001b[39;00m:\n\u001b[1;32m    273\u001b[0m         \u001b[38;5;28;01mif\u001b[39;00m \u001b[38;5;124m'\u001b[39m\u001b[38;5;124mw\u001b[39m\u001b[38;5;124m'\u001b[39m \u001b[38;5;129;01min\u001b[39;00m mode:\n",
      "File \u001b[0;32m~/ComputerVision/PotholeDetection/venv/lib/python3.10/site-packages/torch/serialization.py:252\u001b[0m, in \u001b[0;36m_open_file.__init__\u001b[0;34m(self, name, mode)\u001b[0m\n\u001b[1;32m    251\u001b[0m \u001b[38;5;28;01mdef\u001b[39;00m \u001b[38;5;21m__init__\u001b[39m(\u001b[38;5;28mself\u001b[39m, name, mode):\n\u001b[0;32m--> 252\u001b[0m     \u001b[38;5;28msuper\u001b[39m()\u001b[38;5;241m.\u001b[39m\u001b[38;5;21m__init__\u001b[39m(\u001b[38;5;28;43mopen\u001b[39;49m\u001b[43m(\u001b[49m\u001b[43mname\u001b[49m\u001b[43m,\u001b[49m\u001b[43m \u001b[49m\u001b[43mmode\u001b[49m\u001b[43m)\u001b[49m)\n",
      "\u001b[0;31mFileNotFoundError\u001b[0m: [Errno 2] No such file or directory: '/training/runs/segment/pothole2/weights/best.pt'"
     ]
    }
   ],
   "source": [
    "# Load the trained model\n",
    "model_pt = YOLO(\"/training/runs/segment/pothole2/weights/best.pt\")\n",
    "\n",
    "# Perform inference\n",
    "model = YOLO(model_pt)\n",
    "results = model.predict(\n",
    "    source=\"/home/lusitech/ComputerVision/PotholeDetection/Potholes.v1i.coco/valid\",\n",
    "    save=True,\n",
    ")"
   ]
  },
  {
   "cell_type": "code",
   "execution_count": null,
   "metadata": {},
   "outputs": [],
   "source": []
  }
 ],
 "metadata": {
  "kernelspec": {
   "display_name": "venv",
   "language": "python",
   "name": "python3"
  },
  "language_info": {
   "codemirror_mode": {
    "name": "ipython",
    "version": 3
   },
   "file_extension": ".py",
   "mimetype": "text/x-python",
   "name": "python",
   "nbconvert_exporter": "python",
   "pygments_lexer": "ipython3",
   "version": "3.10.12"
  }
 },
 "nbformat": 4,
 "nbformat_minor": 2
}
